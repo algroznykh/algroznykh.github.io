{
 "cells": [
  {
   "cell_type": "code",
   "execution_count": 4,
   "id": "continental-backup",
   "metadata": {
    "slideshow": {
     "slide_type": "skip"
    }
   },
   "outputs": [
    {
     "name": "stdout",
     "output_type": "stream",
     "text": [
      "[NbConvertApp] Converting notebook great/pres.ipynb to slides\n",
      "[NbConvertApp] Writing 655926 bytes to great/pres.slides.html\n"
     ]
    }
   ],
   "source": [
    "!jupyter nbconvert --to slides great/pres.ipynb"
   ]
  },
  {
   "cell_type": "markdown",
   "id": "auburn-orbit",
   "metadata": {
    "slideshow": {
     "slide_type": "slide"
    }
   },
   "source": [
    "# Генеративное Глубокое Обучение\n",
    "\n",
    "<img src=\"cover.jpeg\">\n",
    "    \n",
    "    "
   ]
  },
  {
   "cell_type": "markdown",
   "id": "anonymous-bones",
   "metadata": {
    "slideshow": {
     "slide_type": "slide"
    }
   },
   "source": [
    "# что такое глубокое обучение и нейросети\n",
    "<img src=\"alexnet.png\">"
   ]
  },
  {
   "cell_type": "markdown",
   "id": "blank-complex",
   "metadata": {
    "slideshow": {
     "slide_type": "slide"
    }
   },
   "source": [
    "# генеративные модели\n",
    "<img src=\"stylegan.jpg\">\n"
   ]
  },
  {
   "cell_type": "markdown",
   "id": "norwegian-virtue",
   "metadata": {
    "slideshow": {
     "slide_type": "slide"
    }
   },
   "source": [
    "# инструменты\n",
    "\n",
    "python / colab (https://ml4a.net/)\n",
    "\n",
    "realtime / web https://magenta.tensorflow.org/\n"
   ]
  },
  {
   "cell_type": "markdown",
   "id": "conservative-disposal",
   "metadata": {
    "slideshow": {
     "slide_type": "slide"
    }
   },
   "source": [
    "# вопросы\n",
    "### Нейросеть «написала» новые песни группы Nirvana \n",
    "\n",
    "\n",
    "###\tМожно ли нейросеть использовать для анализа входящей информации? \n",
    "\n",
    "###\tКак сделать вот такой проект? Долго? Дорого? https://drive.google.com/file/d/12b4ormJc3vwFJ6ZhbCSAVVdPwnZXu02X/view?usp=sharing\n",
    "\n",
    "### Загрузим в нейросетку 100 пивных рецептов пивоваров (например, рецепты лагера). Как она придумать свой, найдет общие подходы во всех рецептах?\n",
    "###\tИли загрузим в нейросетку 25 разных икеевских стульев. Сможет она придумать свой?"
   ]
  },
  {
   "cell_type": "markdown",
   "id": "convinced-remainder",
   "metadata": {
    "slideshow": {
     "slide_type": "slide"
    }
   },
   "source": [
    "# about me\n",
    "- hacker / demoscener. https://twitter.com/algroznykh\n",
    "- machine learning entusiast / artist / curator https://mlart.org"
   ]
  }
 ],
 "metadata": {
  "celltoolbar": "Slideshow",
  "kernelspec": {
   "display_name": "Python 3",
   "language": "python",
   "name": "python3"
  },
  "language_info": {
   "codemirror_mode": {
    "name": "ipython",
    "version": 3
   },
   "file_extension": ".py",
   "mimetype": "text/x-python",
   "name": "python",
   "nbconvert_exporter": "python",
   "pygments_lexer": "ipython3",
   "version": "3.8.5"
  }
 },
 "nbformat": 4,
 "nbformat_minor": 5
}
